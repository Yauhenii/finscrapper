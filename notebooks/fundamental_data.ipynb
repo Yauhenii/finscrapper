{
 "cells": [
  {
   "cell_type": "code",
   "execution_count": 1,
   "metadata": {},
   "outputs": [],
   "source": [
    "import sys\n",
    "sys.path.append('..')"
   ]
  },
  {
   "cell_type": "code",
   "execution_count": 2,
   "metadata": {},
   "outputs": [],
   "source": [
    "from app import FundamentalDataScrapper"
   ]
  },
  {
   "cell_type": "code",
   "execution_count": 3,
   "metadata": {},
   "outputs": [],
   "source": [
    "scrapper = FundamentalDataScrapper()"
   ]
  },
  {
   "cell_type": "code",
   "execution_count": 4,
   "metadata": {},
   "outputs": [],
   "source": [
    "all_modules = [\n",
    "       'assetProfile',\n",
    "       'summaryProfile',\n",
    "       'summaryDetail',\n",
    "       'esgScores',\n",
    "       'price',\n",
    "       'incomeStatementHistory',\n",
    "       'incomeStatementHistoryQuarterly',\n",
    "       'balanceSheetHistory',\n",
    "       'balanceSheetHistoryQuarterly',\n",
    "       'cashflowStatementHistory',\n",
    "       'cashflowStatementHistoryQuarterly',\n",
    "       'defaultKeyStatistics',\n",
    "       'financialData',\n",
    "       'calendarEvents',\n",
    "       'secFilings',\n",
    "       'recommendationTrend',\n",
    "       'upgradeDowngradeHistory',\n",
    "       'institutionOwnership',\n",
    "       'fundOwnership',\n",
    "       'majorDirectHolders',\n",
    "       'majorHoldersBreakdown',\n",
    "       'insiderTransactions',\n",
    "       'insiderHolders',\n",
    "       'netSharePurchaseActivity',\n",
    "       'earnings',\n",
    "       'earningsHistory',\n",
    "       'earningsTrend',\n",
    "       'industryTrend',\n",
    "       'indexTrend',\n",
    "       'sectorTrend']"
   ]
  },
  {
   "cell_type": "code",
   "execution_count": 9,
   "metadata": {},
   "outputs": [],
   "source": [
    "ticker = '^GSPC'\n",
    "i=4\n",
    "modules = all_modules[i:i+1]"
   ]
  },
  {
   "cell_type": "code",
   "execution_count": 10,
   "metadata": {},
   "outputs": [
    {
     "name": "stdout",
     "output_type": "stream",
     "text": [
      "ticker :^GSPC, modules:['price']\n"
     ]
    }
   ],
   "source": [
    "print(f'ticker :{ticker}, modules:{modules}')"
   ]
  },
  {
   "cell_type": "code",
   "execution_count": 11,
   "metadata": {},
   "outputs": [],
   "source": [
    "data=scrapper.get_data(ticker,modules)"
   ]
  },
  {
   "cell_type": "code",
   "execution_count": 18,
   "metadata": {},
   "outputs": [
    {
     "data": {
      "text/plain": [
       "{'quoteSummary': {'result': [{'price': {'maxAge': 1,\n",
       "     'preMarketChange': {},\n",
       "     'preMarketPrice': {},\n",
       "     'postMarketChange': {},\n",
       "     'postMarketPrice': {},\n",
       "     'regularMarketChangePercent': {'raw': -0.00081235846, 'fmt': '-0.08%'},\n",
       "     'regularMarketChange': {'raw': -3.540039, 'fmt': '-3.54'},\n",
       "     'regularMarketTime': 1632258753,\n",
       "     'priceHint': {'raw': 2, 'fmt': '2', 'longFmt': '2'},\n",
       "     'regularMarketPrice': {'raw': 4354.19, 'fmt': '4,354.19'},\n",
       "     'regularMarketDayHigh': {'raw': 4394.87, 'fmt': '4,394.87'},\n",
       "     'regularMarketDayLow': {'raw': 4347.96, 'fmt': '4,347.96'},\n",
       "     'regularMarketVolume': {'raw': 1914740000,\n",
       "      'fmt': '1.91B',\n",
       "      'longFmt': '1,914,740,000.00'},\n",
       "     'averageDailyVolume10Day': {},\n",
       "     'averageDailyVolume3Month': {},\n",
       "     'regularMarketPreviousClose': {'raw': 4357.73, 'fmt': '4,357.73'},\n",
       "     'regularMarketSource': 'FREE_REALTIME',\n",
       "     'regularMarketOpen': {'raw': 4374.45, 'fmt': '4,374.45'},\n",
       "     'strikePrice': {},\n",
       "     'openInterest': {},\n",
       "     'exchange': 'SNP',\n",
       "     'exchangeName': 'SNP',\n",
       "     'exchangeDataDelayedBy': 0,\n",
       "     'marketState': 'PRE',\n",
       "     'quoteType': 'INDEX',\n",
       "     'symbol': '^GSPC',\n",
       "     'underlyingSymbol': None,\n",
       "     'shortName': 'S&P 500',\n",
       "     'longName': None,\n",
       "     'currency': 'USD',\n",
       "     'quoteSourceName': 'Delayed Quote',\n",
       "     'currencySymbol': '$',\n",
       "     'fromCurrency': None,\n",
       "     'toCurrency': None,\n",
       "     'lastMarket': None,\n",
       "     'volume24Hr': {},\n",
       "     'volumeAllCurrencies': {},\n",
       "     'circulatingSupply': {},\n",
       "     'marketCap': {}}}],\n",
       "  'error': None}}"
      ]
     },
     "execution_count": 18,
     "metadata": {},
     "output_type": "execute_result"
    }
   ],
   "source": [
    "data.json()"
   ]
  },
  {
   "cell_type": "markdown",
   "metadata": {},
   "source": [
    "# Test each module"
   ]
  },
  {
   "cell_type": "code",
   "execution_count": 125,
   "metadata": {},
   "outputs": [],
   "source": [
    "import pandas as pd\n",
    "pd.set_option('display.max_columns', None)"
   ]
  },
  {
   "cell_type": "code",
   "execution_count": 136,
   "metadata": {},
   "outputs": [],
   "source": [
    "tickers = ['^GSPC','YM=F','CL=F','EURUSD=X','AAPL','OGZPY']"
   ]
  },
  {
   "cell_type": "code",
   "execution_count": 137,
   "metadata": {},
   "outputs": [],
   "source": [
    "data = {} if not data else data"
   ]
  },
  {
   "cell_type": "code",
   "execution_count": 138,
   "metadata": {},
   "outputs": [
    {
     "name": "stdout",
     "output_type": "stream",
     "text": [
      "^GSPC\n",
      "scrapping\n",
      "YM=F\n",
      "scrapping\n",
      "CL=F\n",
      "scrapping\n",
      "EURUSD=X\n",
      "scrapping\n",
      "AAPL\n",
      "scrapping\n",
      "OGZPY\n",
      "scrapping\n"
     ]
    }
   ],
   "source": [
    "for ticker in tickers:\n",
    "    print(ticker)\n",
    "    if ticker in data:\n",
    "        print('skipping')\n",
    "        continue\n",
    "    print('scrapping')\n",
    "    results = {}\n",
    "    for module in all_modules:\n",
    "        response = scrapper.get_data(ticker,[module])\n",
    "        results[module]=response\n",
    "    data[ticker]=results"
   ]
  },
  {
   "cell_type": "code",
   "execution_count": 139,
   "metadata": {},
   "outputs": [],
   "source": [
    "tickers_df = pd.DataFrame(columns=all_modules, data=data.values(), index=data.keys())"
   ]
  },
  {
   "cell_type": "code",
   "execution_count": 163,
   "metadata": {},
   "outputs": [
    {
     "data": {
      "text/html": [
       "<style  type=\"text/css\" >\n",
       "#T_00662a7e_1bb0_11ec_9e5e_7831c1c13816row0_col0,#T_00662a7e_1bb0_11ec_9e5e_7831c1c13816row0_col1,#T_00662a7e_1bb0_11ec_9e5e_7831c1c13816row0_col3,#T_00662a7e_1bb0_11ec_9e5e_7831c1c13816row0_col5,#T_00662a7e_1bb0_11ec_9e5e_7831c1c13816row0_col6,#T_00662a7e_1bb0_11ec_9e5e_7831c1c13816row0_col7,#T_00662a7e_1bb0_11ec_9e5e_7831c1c13816row0_col8,#T_00662a7e_1bb0_11ec_9e5e_7831c1c13816row0_col9,#T_00662a7e_1bb0_11ec_9e5e_7831c1c13816row0_col10,#T_00662a7e_1bb0_11ec_9e5e_7831c1c13816row0_col11,#T_00662a7e_1bb0_11ec_9e5e_7831c1c13816row0_col12,#T_00662a7e_1bb0_11ec_9e5e_7831c1c13816row0_col13,#T_00662a7e_1bb0_11ec_9e5e_7831c1c13816row0_col14,#T_00662a7e_1bb0_11ec_9e5e_7831c1c13816row0_col15,#T_00662a7e_1bb0_11ec_9e5e_7831c1c13816row0_col16,#T_00662a7e_1bb0_11ec_9e5e_7831c1c13816row0_col17,#T_00662a7e_1bb0_11ec_9e5e_7831c1c13816row0_col18,#T_00662a7e_1bb0_11ec_9e5e_7831c1c13816row0_col19,#T_00662a7e_1bb0_11ec_9e5e_7831c1c13816row0_col20,#T_00662a7e_1bb0_11ec_9e5e_7831c1c13816row0_col21,#T_00662a7e_1bb0_11ec_9e5e_7831c1c13816row0_col22,#T_00662a7e_1bb0_11ec_9e5e_7831c1c13816row0_col23,#T_00662a7e_1bb0_11ec_9e5e_7831c1c13816row0_col24,#T_00662a7e_1bb0_11ec_9e5e_7831c1c13816row0_col25,#T_00662a7e_1bb0_11ec_9e5e_7831c1c13816row0_col26,#T_00662a7e_1bb0_11ec_9e5e_7831c1c13816row0_col27,#T_00662a7e_1bb0_11ec_9e5e_7831c1c13816row0_col28,#T_00662a7e_1bb0_11ec_9e5e_7831c1c13816row0_col29,#T_00662a7e_1bb0_11ec_9e5e_7831c1c13816row1_col0,#T_00662a7e_1bb0_11ec_9e5e_7831c1c13816row1_col1,#T_00662a7e_1bb0_11ec_9e5e_7831c1c13816row1_col3,#T_00662a7e_1bb0_11ec_9e5e_7831c1c13816row1_col5,#T_00662a7e_1bb0_11ec_9e5e_7831c1c13816row1_col6,#T_00662a7e_1bb0_11ec_9e5e_7831c1c13816row1_col7,#T_00662a7e_1bb0_11ec_9e5e_7831c1c13816row1_col8,#T_00662a7e_1bb0_11ec_9e5e_7831c1c13816row1_col9,#T_00662a7e_1bb0_11ec_9e5e_7831c1c13816row1_col10,#T_00662a7e_1bb0_11ec_9e5e_7831c1c13816row1_col11,#T_00662a7e_1bb0_11ec_9e5e_7831c1c13816row1_col12,#T_00662a7e_1bb0_11ec_9e5e_7831c1c13816row1_col13,#T_00662a7e_1bb0_11ec_9e5e_7831c1c13816row1_col14,#T_00662a7e_1bb0_11ec_9e5e_7831c1c13816row1_col15,#T_00662a7e_1bb0_11ec_9e5e_7831c1c13816row1_col16,#T_00662a7e_1bb0_11ec_9e5e_7831c1c13816row1_col17,#T_00662a7e_1bb0_11ec_9e5e_7831c1c13816row1_col18,#T_00662a7e_1bb0_11ec_9e5e_7831c1c13816row1_col19,#T_00662a7e_1bb0_11ec_9e5e_7831c1c13816row1_col20,#T_00662a7e_1bb0_11ec_9e5e_7831c1c13816row1_col21,#T_00662a7e_1bb0_11ec_9e5e_7831c1c13816row1_col22,#T_00662a7e_1bb0_11ec_9e5e_7831c1c13816row1_col23,#T_00662a7e_1bb0_11ec_9e5e_7831c1c13816row1_col24,#T_00662a7e_1bb0_11ec_9e5e_7831c1c13816row1_col25,#T_00662a7e_1bb0_11ec_9e5e_7831c1c13816row1_col26,#T_00662a7e_1bb0_11ec_9e5e_7831c1c13816row1_col27,#T_00662a7e_1bb0_11ec_9e5e_7831c1c13816row1_col28,#T_00662a7e_1bb0_11ec_9e5e_7831c1c13816row1_col29,#T_00662a7e_1bb0_11ec_9e5e_7831c1c13816row2_col0,#T_00662a7e_1bb0_11ec_9e5e_7831c1c13816row2_col1,#T_00662a7e_1bb0_11ec_9e5e_7831c1c13816row2_col3,#T_00662a7e_1bb0_11ec_9e5e_7831c1c13816row2_col5,#T_00662a7e_1bb0_11ec_9e5e_7831c1c13816row2_col6,#T_00662a7e_1bb0_11ec_9e5e_7831c1c13816row2_col7,#T_00662a7e_1bb0_11ec_9e5e_7831c1c13816row2_col8,#T_00662a7e_1bb0_11ec_9e5e_7831c1c13816row2_col9,#T_00662a7e_1bb0_11ec_9e5e_7831c1c13816row2_col10,#T_00662a7e_1bb0_11ec_9e5e_7831c1c13816row2_col11,#T_00662a7e_1bb0_11ec_9e5e_7831c1c13816row2_col12,#T_00662a7e_1bb0_11ec_9e5e_7831c1c13816row2_col13,#T_00662a7e_1bb0_11ec_9e5e_7831c1c13816row2_col14,#T_00662a7e_1bb0_11ec_9e5e_7831c1c13816row2_col15,#T_00662a7e_1bb0_11ec_9e5e_7831c1c13816row2_col16,#T_00662a7e_1bb0_11ec_9e5e_7831c1c13816row2_col17,#T_00662a7e_1bb0_11ec_9e5e_7831c1c13816row2_col18,#T_00662a7e_1bb0_11ec_9e5e_7831c1c13816row2_col19,#T_00662a7e_1bb0_11ec_9e5e_7831c1c13816row2_col20,#T_00662a7e_1bb0_11ec_9e5e_7831c1c13816row2_col21,#T_00662a7e_1bb0_11ec_9e5e_7831c1c13816row2_col22,#T_00662a7e_1bb0_11ec_9e5e_7831c1c13816row2_col23,#T_00662a7e_1bb0_11ec_9e5e_7831c1c13816row2_col24,#T_00662a7e_1bb0_11ec_9e5e_7831c1c13816row2_col25,#T_00662a7e_1bb0_11ec_9e5e_7831c1c13816row2_col26,#T_00662a7e_1bb0_11ec_9e5e_7831c1c13816row2_col27,#T_00662a7e_1bb0_11ec_9e5e_7831c1c13816row2_col28,#T_00662a7e_1bb0_11ec_9e5e_7831c1c13816row2_col29,#T_00662a7e_1bb0_11ec_9e5e_7831c1c13816row3_col0,#T_00662a7e_1bb0_11ec_9e5e_7831c1c13816row3_col1,#T_00662a7e_1bb0_11ec_9e5e_7831c1c13816row3_col3,#T_00662a7e_1bb0_11ec_9e5e_7831c1c13816row3_col5,#T_00662a7e_1bb0_11ec_9e5e_7831c1c13816row3_col6,#T_00662a7e_1bb0_11ec_9e5e_7831c1c13816row3_col7,#T_00662a7e_1bb0_11ec_9e5e_7831c1c13816row3_col8,#T_00662a7e_1bb0_11ec_9e5e_7831c1c13816row3_col9,#T_00662a7e_1bb0_11ec_9e5e_7831c1c13816row3_col10,#T_00662a7e_1bb0_11ec_9e5e_7831c1c13816row3_col11,#T_00662a7e_1bb0_11ec_9e5e_7831c1c13816row3_col12,#T_00662a7e_1bb0_11ec_9e5e_7831c1c13816row3_col13,#T_00662a7e_1bb0_11ec_9e5e_7831c1c13816row3_col14,#T_00662a7e_1bb0_11ec_9e5e_7831c1c13816row3_col15,#T_00662a7e_1bb0_11ec_9e5e_7831c1c13816row3_col16,#T_00662a7e_1bb0_11ec_9e5e_7831c1c13816row3_col17,#T_00662a7e_1bb0_11ec_9e5e_7831c1c13816row3_col18,#T_00662a7e_1bb0_11ec_9e5e_7831c1c13816row3_col19,#T_00662a7e_1bb0_11ec_9e5e_7831c1c13816row3_col20,#T_00662a7e_1bb0_11ec_9e5e_7831c1c13816row3_col21,#T_00662a7e_1bb0_11ec_9e5e_7831c1c13816row3_col22,#T_00662a7e_1bb0_11ec_9e5e_7831c1c13816row3_col23,#T_00662a7e_1bb0_11ec_9e5e_7831c1c13816row3_col24,#T_00662a7e_1bb0_11ec_9e5e_7831c1c13816row3_col25,#T_00662a7e_1bb0_11ec_9e5e_7831c1c13816row3_col26,#T_00662a7e_1bb0_11ec_9e5e_7831c1c13816row3_col27,#T_00662a7e_1bb0_11ec_9e5e_7831c1c13816row3_col28,#T_00662a7e_1bb0_11ec_9e5e_7831c1c13816row3_col29,#T_00662a7e_1bb0_11ec_9e5e_7831c1c13816row5_col3,#T_00662a7e_1bb0_11ec_9e5e_7831c1c13816row5_col14,#T_00662a7e_1bb0_11ec_9e5e_7831c1c13816row5_col16,#T_00662a7e_1bb0_11ec_9e5e_7831c1c13816row5_col21{\n",
       "            color:  red;\n",
       "        }#T_00662a7e_1bb0_11ec_9e5e_7831c1c13816row0_col2,#T_00662a7e_1bb0_11ec_9e5e_7831c1c13816row0_col4,#T_00662a7e_1bb0_11ec_9e5e_7831c1c13816row1_col2,#T_00662a7e_1bb0_11ec_9e5e_7831c1c13816row1_col4,#T_00662a7e_1bb0_11ec_9e5e_7831c1c13816row2_col2,#T_00662a7e_1bb0_11ec_9e5e_7831c1c13816row2_col4,#T_00662a7e_1bb0_11ec_9e5e_7831c1c13816row3_col2,#T_00662a7e_1bb0_11ec_9e5e_7831c1c13816row3_col4,#T_00662a7e_1bb0_11ec_9e5e_7831c1c13816row4_col0,#T_00662a7e_1bb0_11ec_9e5e_7831c1c13816row4_col1,#T_00662a7e_1bb0_11ec_9e5e_7831c1c13816row4_col2,#T_00662a7e_1bb0_11ec_9e5e_7831c1c13816row4_col3,#T_00662a7e_1bb0_11ec_9e5e_7831c1c13816row4_col4,#T_00662a7e_1bb0_11ec_9e5e_7831c1c13816row4_col5,#T_00662a7e_1bb0_11ec_9e5e_7831c1c13816row4_col6,#T_00662a7e_1bb0_11ec_9e5e_7831c1c13816row4_col7,#T_00662a7e_1bb0_11ec_9e5e_7831c1c13816row4_col8,#T_00662a7e_1bb0_11ec_9e5e_7831c1c13816row4_col9,#T_00662a7e_1bb0_11ec_9e5e_7831c1c13816row4_col10,#T_00662a7e_1bb0_11ec_9e5e_7831c1c13816row4_col11,#T_00662a7e_1bb0_11ec_9e5e_7831c1c13816row4_col12,#T_00662a7e_1bb0_11ec_9e5e_7831c1c13816row4_col13,#T_00662a7e_1bb0_11ec_9e5e_7831c1c13816row4_col14,#T_00662a7e_1bb0_11ec_9e5e_7831c1c13816row4_col15,#T_00662a7e_1bb0_11ec_9e5e_7831c1c13816row4_col16,#T_00662a7e_1bb0_11ec_9e5e_7831c1c13816row4_col17,#T_00662a7e_1bb0_11ec_9e5e_7831c1c13816row4_col18,#T_00662a7e_1bb0_11ec_9e5e_7831c1c13816row4_col19,#T_00662a7e_1bb0_11ec_9e5e_7831c1c13816row4_col20,#T_00662a7e_1bb0_11ec_9e5e_7831c1c13816row4_col21,#T_00662a7e_1bb0_11ec_9e5e_7831c1c13816row4_col22,#T_00662a7e_1bb0_11ec_9e5e_7831c1c13816row4_col23,#T_00662a7e_1bb0_11ec_9e5e_7831c1c13816row4_col24,#T_00662a7e_1bb0_11ec_9e5e_7831c1c13816row4_col25,#T_00662a7e_1bb0_11ec_9e5e_7831c1c13816row4_col26,#T_00662a7e_1bb0_11ec_9e5e_7831c1c13816row4_col27,#T_00662a7e_1bb0_11ec_9e5e_7831c1c13816row4_col28,#T_00662a7e_1bb0_11ec_9e5e_7831c1c13816row4_col29,#T_00662a7e_1bb0_11ec_9e5e_7831c1c13816row5_col0,#T_00662a7e_1bb0_11ec_9e5e_7831c1c13816row5_col1,#T_00662a7e_1bb0_11ec_9e5e_7831c1c13816row5_col2,#T_00662a7e_1bb0_11ec_9e5e_7831c1c13816row5_col4,#T_00662a7e_1bb0_11ec_9e5e_7831c1c13816row5_col5,#T_00662a7e_1bb0_11ec_9e5e_7831c1c13816row5_col6,#T_00662a7e_1bb0_11ec_9e5e_7831c1c13816row5_col7,#T_00662a7e_1bb0_11ec_9e5e_7831c1c13816row5_col8,#T_00662a7e_1bb0_11ec_9e5e_7831c1c13816row5_col9,#T_00662a7e_1bb0_11ec_9e5e_7831c1c13816row5_col10,#T_00662a7e_1bb0_11ec_9e5e_7831c1c13816row5_col11,#T_00662a7e_1bb0_11ec_9e5e_7831c1c13816row5_col12,#T_00662a7e_1bb0_11ec_9e5e_7831c1c13816row5_col13,#T_00662a7e_1bb0_11ec_9e5e_7831c1c13816row5_col15,#T_00662a7e_1bb0_11ec_9e5e_7831c1c13816row5_col17,#T_00662a7e_1bb0_11ec_9e5e_7831c1c13816row5_col18,#T_00662a7e_1bb0_11ec_9e5e_7831c1c13816row5_col19,#T_00662a7e_1bb0_11ec_9e5e_7831c1c13816row5_col20,#T_00662a7e_1bb0_11ec_9e5e_7831c1c13816row5_col22,#T_00662a7e_1bb0_11ec_9e5e_7831c1c13816row5_col23,#T_00662a7e_1bb0_11ec_9e5e_7831c1c13816row5_col24,#T_00662a7e_1bb0_11ec_9e5e_7831c1c13816row5_col25,#T_00662a7e_1bb0_11ec_9e5e_7831c1c13816row5_col26,#T_00662a7e_1bb0_11ec_9e5e_7831c1c13816row5_col27,#T_00662a7e_1bb0_11ec_9e5e_7831c1c13816row5_col28,#T_00662a7e_1bb0_11ec_9e5e_7831c1c13816row5_col29{\n",
       "            color:  green;\n",
       "        }</style><table id=\"T_00662a7e_1bb0_11ec_9e5e_7831c1c13816\" ><thead>    <tr>        <th class=\"blank level0\" ></th>        <th class=\"col_heading level0 col0\" >assetProfile</th>        <th class=\"col_heading level0 col1\" >summaryProfile</th>        <th class=\"col_heading level0 col2\" >summaryDetail</th>        <th class=\"col_heading level0 col3\" >esgScores</th>        <th class=\"col_heading level0 col4\" >price</th>        <th class=\"col_heading level0 col5\" >incomeStatementHistory</th>        <th class=\"col_heading level0 col6\" >incomeStatementHistoryQuarterly</th>        <th class=\"col_heading level0 col7\" >balanceSheetHistory</th>        <th class=\"col_heading level0 col8\" >balanceSheetHistoryQuarterly</th>        <th class=\"col_heading level0 col9\" >cashflowStatementHistory</th>        <th class=\"col_heading level0 col10\" >cashflowStatementHistoryQuarterly</th>        <th class=\"col_heading level0 col11\" >defaultKeyStatistics</th>        <th class=\"col_heading level0 col12\" >financialData</th>        <th class=\"col_heading level0 col13\" >calendarEvents</th>        <th class=\"col_heading level0 col14\" >secFilings</th>        <th class=\"col_heading level0 col15\" >recommendationTrend</th>        <th class=\"col_heading level0 col16\" >upgradeDowngradeHistory</th>        <th class=\"col_heading level0 col17\" >institutionOwnership</th>        <th class=\"col_heading level0 col18\" >fundOwnership</th>        <th class=\"col_heading level0 col19\" >majorDirectHolders</th>        <th class=\"col_heading level0 col20\" >majorHoldersBreakdown</th>        <th class=\"col_heading level0 col21\" >insiderTransactions</th>        <th class=\"col_heading level0 col22\" >insiderHolders</th>        <th class=\"col_heading level0 col23\" >netSharePurchaseActivity</th>        <th class=\"col_heading level0 col24\" >earnings</th>        <th class=\"col_heading level0 col25\" >earningsHistory</th>        <th class=\"col_heading level0 col26\" >earningsTrend</th>        <th class=\"col_heading level0 col27\" >industryTrend</th>        <th class=\"col_heading level0 col28\" >indexTrend</th>        <th class=\"col_heading level0 col29\" >sectorTrend</th>    </tr></thead><tbody>\n",
       "                <tr>\n",
       "                        <th id=\"T_00662a7e_1bb0_11ec_9e5e_7831c1c13816level0_row0\" class=\"row_heading level0 row0\" >^GSPC</th>\n",
       "                        <td id=\"T_00662a7e_1bb0_11ec_9e5e_7831c1c13816row0_col0\" class=\"data row0 col0\" >404</td>\n",
       "                        <td id=\"T_00662a7e_1bb0_11ec_9e5e_7831c1c13816row0_col1\" class=\"data row0 col1\" >404</td>\n",
       "                        <td id=\"T_00662a7e_1bb0_11ec_9e5e_7831c1c13816row0_col2\" class=\"data row0 col2\" >200</td>\n",
       "                        <td id=\"T_00662a7e_1bb0_11ec_9e5e_7831c1c13816row0_col3\" class=\"data row0 col3\" >404</td>\n",
       "                        <td id=\"T_00662a7e_1bb0_11ec_9e5e_7831c1c13816row0_col4\" class=\"data row0 col4\" >200</td>\n",
       "                        <td id=\"T_00662a7e_1bb0_11ec_9e5e_7831c1c13816row0_col5\" class=\"data row0 col5\" >404</td>\n",
       "                        <td id=\"T_00662a7e_1bb0_11ec_9e5e_7831c1c13816row0_col6\" class=\"data row0 col6\" >404</td>\n",
       "                        <td id=\"T_00662a7e_1bb0_11ec_9e5e_7831c1c13816row0_col7\" class=\"data row0 col7\" >404</td>\n",
       "                        <td id=\"T_00662a7e_1bb0_11ec_9e5e_7831c1c13816row0_col8\" class=\"data row0 col8\" >404</td>\n",
       "                        <td id=\"T_00662a7e_1bb0_11ec_9e5e_7831c1c13816row0_col9\" class=\"data row0 col9\" >404</td>\n",
       "                        <td id=\"T_00662a7e_1bb0_11ec_9e5e_7831c1c13816row0_col10\" class=\"data row0 col10\" >404</td>\n",
       "                        <td id=\"T_00662a7e_1bb0_11ec_9e5e_7831c1c13816row0_col11\" class=\"data row0 col11\" >404</td>\n",
       "                        <td id=\"T_00662a7e_1bb0_11ec_9e5e_7831c1c13816row0_col12\" class=\"data row0 col12\" >404</td>\n",
       "                        <td id=\"T_00662a7e_1bb0_11ec_9e5e_7831c1c13816row0_col13\" class=\"data row0 col13\" >404</td>\n",
       "                        <td id=\"T_00662a7e_1bb0_11ec_9e5e_7831c1c13816row0_col14\" class=\"data row0 col14\" >404</td>\n",
       "                        <td id=\"T_00662a7e_1bb0_11ec_9e5e_7831c1c13816row0_col15\" class=\"data row0 col15\" >404</td>\n",
       "                        <td id=\"T_00662a7e_1bb0_11ec_9e5e_7831c1c13816row0_col16\" class=\"data row0 col16\" >404</td>\n",
       "                        <td id=\"T_00662a7e_1bb0_11ec_9e5e_7831c1c13816row0_col17\" class=\"data row0 col17\" >404</td>\n",
       "                        <td id=\"T_00662a7e_1bb0_11ec_9e5e_7831c1c13816row0_col18\" class=\"data row0 col18\" >404</td>\n",
       "                        <td id=\"T_00662a7e_1bb0_11ec_9e5e_7831c1c13816row0_col19\" class=\"data row0 col19\" >404</td>\n",
       "                        <td id=\"T_00662a7e_1bb0_11ec_9e5e_7831c1c13816row0_col20\" class=\"data row0 col20\" >404</td>\n",
       "                        <td id=\"T_00662a7e_1bb0_11ec_9e5e_7831c1c13816row0_col21\" class=\"data row0 col21\" >404</td>\n",
       "                        <td id=\"T_00662a7e_1bb0_11ec_9e5e_7831c1c13816row0_col22\" class=\"data row0 col22\" >404</td>\n",
       "                        <td id=\"T_00662a7e_1bb0_11ec_9e5e_7831c1c13816row0_col23\" class=\"data row0 col23\" >404</td>\n",
       "                        <td id=\"T_00662a7e_1bb0_11ec_9e5e_7831c1c13816row0_col24\" class=\"data row0 col24\" >404</td>\n",
       "                        <td id=\"T_00662a7e_1bb0_11ec_9e5e_7831c1c13816row0_col25\" class=\"data row0 col25\" >404</td>\n",
       "                        <td id=\"T_00662a7e_1bb0_11ec_9e5e_7831c1c13816row0_col26\" class=\"data row0 col26\" >404</td>\n",
       "                        <td id=\"T_00662a7e_1bb0_11ec_9e5e_7831c1c13816row0_col27\" class=\"data row0 col27\" >404</td>\n",
       "                        <td id=\"T_00662a7e_1bb0_11ec_9e5e_7831c1c13816row0_col28\" class=\"data row0 col28\" >404</td>\n",
       "                        <td id=\"T_00662a7e_1bb0_11ec_9e5e_7831c1c13816row0_col29\" class=\"data row0 col29\" >404</td>\n",
       "            </tr>\n",
       "            <tr>\n",
       "                        <th id=\"T_00662a7e_1bb0_11ec_9e5e_7831c1c13816level0_row1\" class=\"row_heading level0 row1\" >YM=F</th>\n",
       "                        <td id=\"T_00662a7e_1bb0_11ec_9e5e_7831c1c13816row1_col0\" class=\"data row1 col0\" >404</td>\n",
       "                        <td id=\"T_00662a7e_1bb0_11ec_9e5e_7831c1c13816row1_col1\" class=\"data row1 col1\" >404</td>\n",
       "                        <td id=\"T_00662a7e_1bb0_11ec_9e5e_7831c1c13816row1_col2\" class=\"data row1 col2\" >200</td>\n",
       "                        <td id=\"T_00662a7e_1bb0_11ec_9e5e_7831c1c13816row1_col3\" class=\"data row1 col3\" >404</td>\n",
       "                        <td id=\"T_00662a7e_1bb0_11ec_9e5e_7831c1c13816row1_col4\" class=\"data row1 col4\" >200</td>\n",
       "                        <td id=\"T_00662a7e_1bb0_11ec_9e5e_7831c1c13816row1_col5\" class=\"data row1 col5\" >404</td>\n",
       "                        <td id=\"T_00662a7e_1bb0_11ec_9e5e_7831c1c13816row1_col6\" class=\"data row1 col6\" >404</td>\n",
       "                        <td id=\"T_00662a7e_1bb0_11ec_9e5e_7831c1c13816row1_col7\" class=\"data row1 col7\" >404</td>\n",
       "                        <td id=\"T_00662a7e_1bb0_11ec_9e5e_7831c1c13816row1_col8\" class=\"data row1 col8\" >404</td>\n",
       "                        <td id=\"T_00662a7e_1bb0_11ec_9e5e_7831c1c13816row1_col9\" class=\"data row1 col9\" >404</td>\n",
       "                        <td id=\"T_00662a7e_1bb0_11ec_9e5e_7831c1c13816row1_col10\" class=\"data row1 col10\" >404</td>\n",
       "                        <td id=\"T_00662a7e_1bb0_11ec_9e5e_7831c1c13816row1_col11\" class=\"data row1 col11\" >404</td>\n",
       "                        <td id=\"T_00662a7e_1bb0_11ec_9e5e_7831c1c13816row1_col12\" class=\"data row1 col12\" >404</td>\n",
       "                        <td id=\"T_00662a7e_1bb0_11ec_9e5e_7831c1c13816row1_col13\" class=\"data row1 col13\" >404</td>\n",
       "                        <td id=\"T_00662a7e_1bb0_11ec_9e5e_7831c1c13816row1_col14\" class=\"data row1 col14\" >404</td>\n",
       "                        <td id=\"T_00662a7e_1bb0_11ec_9e5e_7831c1c13816row1_col15\" class=\"data row1 col15\" >404</td>\n",
       "                        <td id=\"T_00662a7e_1bb0_11ec_9e5e_7831c1c13816row1_col16\" class=\"data row1 col16\" >404</td>\n",
       "                        <td id=\"T_00662a7e_1bb0_11ec_9e5e_7831c1c13816row1_col17\" class=\"data row1 col17\" >404</td>\n",
       "                        <td id=\"T_00662a7e_1bb0_11ec_9e5e_7831c1c13816row1_col18\" class=\"data row1 col18\" >404</td>\n",
       "                        <td id=\"T_00662a7e_1bb0_11ec_9e5e_7831c1c13816row1_col19\" class=\"data row1 col19\" >404</td>\n",
       "                        <td id=\"T_00662a7e_1bb0_11ec_9e5e_7831c1c13816row1_col20\" class=\"data row1 col20\" >404</td>\n",
       "                        <td id=\"T_00662a7e_1bb0_11ec_9e5e_7831c1c13816row1_col21\" class=\"data row1 col21\" >404</td>\n",
       "                        <td id=\"T_00662a7e_1bb0_11ec_9e5e_7831c1c13816row1_col22\" class=\"data row1 col22\" >404</td>\n",
       "                        <td id=\"T_00662a7e_1bb0_11ec_9e5e_7831c1c13816row1_col23\" class=\"data row1 col23\" >404</td>\n",
       "                        <td id=\"T_00662a7e_1bb0_11ec_9e5e_7831c1c13816row1_col24\" class=\"data row1 col24\" >404</td>\n",
       "                        <td id=\"T_00662a7e_1bb0_11ec_9e5e_7831c1c13816row1_col25\" class=\"data row1 col25\" >404</td>\n",
       "                        <td id=\"T_00662a7e_1bb0_11ec_9e5e_7831c1c13816row1_col26\" class=\"data row1 col26\" >404</td>\n",
       "                        <td id=\"T_00662a7e_1bb0_11ec_9e5e_7831c1c13816row1_col27\" class=\"data row1 col27\" >404</td>\n",
       "                        <td id=\"T_00662a7e_1bb0_11ec_9e5e_7831c1c13816row1_col28\" class=\"data row1 col28\" >404</td>\n",
       "                        <td id=\"T_00662a7e_1bb0_11ec_9e5e_7831c1c13816row1_col29\" class=\"data row1 col29\" >404</td>\n",
       "            </tr>\n",
       "            <tr>\n",
       "                        <th id=\"T_00662a7e_1bb0_11ec_9e5e_7831c1c13816level0_row2\" class=\"row_heading level0 row2\" >CL=F</th>\n",
       "                        <td id=\"T_00662a7e_1bb0_11ec_9e5e_7831c1c13816row2_col0\" class=\"data row2 col0\" >404</td>\n",
       "                        <td id=\"T_00662a7e_1bb0_11ec_9e5e_7831c1c13816row2_col1\" class=\"data row2 col1\" >404</td>\n",
       "                        <td id=\"T_00662a7e_1bb0_11ec_9e5e_7831c1c13816row2_col2\" class=\"data row2 col2\" >200</td>\n",
       "                        <td id=\"T_00662a7e_1bb0_11ec_9e5e_7831c1c13816row2_col3\" class=\"data row2 col3\" >404</td>\n",
       "                        <td id=\"T_00662a7e_1bb0_11ec_9e5e_7831c1c13816row2_col4\" class=\"data row2 col4\" >200</td>\n",
       "                        <td id=\"T_00662a7e_1bb0_11ec_9e5e_7831c1c13816row2_col5\" class=\"data row2 col5\" >404</td>\n",
       "                        <td id=\"T_00662a7e_1bb0_11ec_9e5e_7831c1c13816row2_col6\" class=\"data row2 col6\" >404</td>\n",
       "                        <td id=\"T_00662a7e_1bb0_11ec_9e5e_7831c1c13816row2_col7\" class=\"data row2 col7\" >404</td>\n",
       "                        <td id=\"T_00662a7e_1bb0_11ec_9e5e_7831c1c13816row2_col8\" class=\"data row2 col8\" >404</td>\n",
       "                        <td id=\"T_00662a7e_1bb0_11ec_9e5e_7831c1c13816row2_col9\" class=\"data row2 col9\" >404</td>\n",
       "                        <td id=\"T_00662a7e_1bb0_11ec_9e5e_7831c1c13816row2_col10\" class=\"data row2 col10\" >404</td>\n",
       "                        <td id=\"T_00662a7e_1bb0_11ec_9e5e_7831c1c13816row2_col11\" class=\"data row2 col11\" >404</td>\n",
       "                        <td id=\"T_00662a7e_1bb0_11ec_9e5e_7831c1c13816row2_col12\" class=\"data row2 col12\" >404</td>\n",
       "                        <td id=\"T_00662a7e_1bb0_11ec_9e5e_7831c1c13816row2_col13\" class=\"data row2 col13\" >404</td>\n",
       "                        <td id=\"T_00662a7e_1bb0_11ec_9e5e_7831c1c13816row2_col14\" class=\"data row2 col14\" >404</td>\n",
       "                        <td id=\"T_00662a7e_1bb0_11ec_9e5e_7831c1c13816row2_col15\" class=\"data row2 col15\" >404</td>\n",
       "                        <td id=\"T_00662a7e_1bb0_11ec_9e5e_7831c1c13816row2_col16\" class=\"data row2 col16\" >404</td>\n",
       "                        <td id=\"T_00662a7e_1bb0_11ec_9e5e_7831c1c13816row2_col17\" class=\"data row2 col17\" >404</td>\n",
       "                        <td id=\"T_00662a7e_1bb0_11ec_9e5e_7831c1c13816row2_col18\" class=\"data row2 col18\" >404</td>\n",
       "                        <td id=\"T_00662a7e_1bb0_11ec_9e5e_7831c1c13816row2_col19\" class=\"data row2 col19\" >404</td>\n",
       "                        <td id=\"T_00662a7e_1bb0_11ec_9e5e_7831c1c13816row2_col20\" class=\"data row2 col20\" >404</td>\n",
       "                        <td id=\"T_00662a7e_1bb0_11ec_9e5e_7831c1c13816row2_col21\" class=\"data row2 col21\" >404</td>\n",
       "                        <td id=\"T_00662a7e_1bb0_11ec_9e5e_7831c1c13816row2_col22\" class=\"data row2 col22\" >404</td>\n",
       "                        <td id=\"T_00662a7e_1bb0_11ec_9e5e_7831c1c13816row2_col23\" class=\"data row2 col23\" >404</td>\n",
       "                        <td id=\"T_00662a7e_1bb0_11ec_9e5e_7831c1c13816row2_col24\" class=\"data row2 col24\" >404</td>\n",
       "                        <td id=\"T_00662a7e_1bb0_11ec_9e5e_7831c1c13816row2_col25\" class=\"data row2 col25\" >404</td>\n",
       "                        <td id=\"T_00662a7e_1bb0_11ec_9e5e_7831c1c13816row2_col26\" class=\"data row2 col26\" >404</td>\n",
       "                        <td id=\"T_00662a7e_1bb0_11ec_9e5e_7831c1c13816row2_col27\" class=\"data row2 col27\" >404</td>\n",
       "                        <td id=\"T_00662a7e_1bb0_11ec_9e5e_7831c1c13816row2_col28\" class=\"data row2 col28\" >404</td>\n",
       "                        <td id=\"T_00662a7e_1bb0_11ec_9e5e_7831c1c13816row2_col29\" class=\"data row2 col29\" >404</td>\n",
       "            </tr>\n",
       "            <tr>\n",
       "                        <th id=\"T_00662a7e_1bb0_11ec_9e5e_7831c1c13816level0_row3\" class=\"row_heading level0 row3\" >EURUSD=X</th>\n",
       "                        <td id=\"T_00662a7e_1bb0_11ec_9e5e_7831c1c13816row3_col0\" class=\"data row3 col0\" >404</td>\n",
       "                        <td id=\"T_00662a7e_1bb0_11ec_9e5e_7831c1c13816row3_col1\" class=\"data row3 col1\" >404</td>\n",
       "                        <td id=\"T_00662a7e_1bb0_11ec_9e5e_7831c1c13816row3_col2\" class=\"data row3 col2\" >200</td>\n",
       "                        <td id=\"T_00662a7e_1bb0_11ec_9e5e_7831c1c13816row3_col3\" class=\"data row3 col3\" >404</td>\n",
       "                        <td id=\"T_00662a7e_1bb0_11ec_9e5e_7831c1c13816row3_col4\" class=\"data row3 col4\" >200</td>\n",
       "                        <td id=\"T_00662a7e_1bb0_11ec_9e5e_7831c1c13816row3_col5\" class=\"data row3 col5\" >404</td>\n",
       "                        <td id=\"T_00662a7e_1bb0_11ec_9e5e_7831c1c13816row3_col6\" class=\"data row3 col6\" >404</td>\n",
       "                        <td id=\"T_00662a7e_1bb0_11ec_9e5e_7831c1c13816row3_col7\" class=\"data row3 col7\" >404</td>\n",
       "                        <td id=\"T_00662a7e_1bb0_11ec_9e5e_7831c1c13816row3_col8\" class=\"data row3 col8\" >404</td>\n",
       "                        <td id=\"T_00662a7e_1bb0_11ec_9e5e_7831c1c13816row3_col9\" class=\"data row3 col9\" >404</td>\n",
       "                        <td id=\"T_00662a7e_1bb0_11ec_9e5e_7831c1c13816row3_col10\" class=\"data row3 col10\" >404</td>\n",
       "                        <td id=\"T_00662a7e_1bb0_11ec_9e5e_7831c1c13816row3_col11\" class=\"data row3 col11\" >404</td>\n",
       "                        <td id=\"T_00662a7e_1bb0_11ec_9e5e_7831c1c13816row3_col12\" class=\"data row3 col12\" >404</td>\n",
       "                        <td id=\"T_00662a7e_1bb0_11ec_9e5e_7831c1c13816row3_col13\" class=\"data row3 col13\" >404</td>\n",
       "                        <td id=\"T_00662a7e_1bb0_11ec_9e5e_7831c1c13816row3_col14\" class=\"data row3 col14\" >404</td>\n",
       "                        <td id=\"T_00662a7e_1bb0_11ec_9e5e_7831c1c13816row3_col15\" class=\"data row3 col15\" >404</td>\n",
       "                        <td id=\"T_00662a7e_1bb0_11ec_9e5e_7831c1c13816row3_col16\" class=\"data row3 col16\" >404</td>\n",
       "                        <td id=\"T_00662a7e_1bb0_11ec_9e5e_7831c1c13816row3_col17\" class=\"data row3 col17\" >404</td>\n",
       "                        <td id=\"T_00662a7e_1bb0_11ec_9e5e_7831c1c13816row3_col18\" class=\"data row3 col18\" >404</td>\n",
       "                        <td id=\"T_00662a7e_1bb0_11ec_9e5e_7831c1c13816row3_col19\" class=\"data row3 col19\" >404</td>\n",
       "                        <td id=\"T_00662a7e_1bb0_11ec_9e5e_7831c1c13816row3_col20\" class=\"data row3 col20\" >404</td>\n",
       "                        <td id=\"T_00662a7e_1bb0_11ec_9e5e_7831c1c13816row3_col21\" class=\"data row3 col21\" >404</td>\n",
       "                        <td id=\"T_00662a7e_1bb0_11ec_9e5e_7831c1c13816row3_col22\" class=\"data row3 col22\" >404</td>\n",
       "                        <td id=\"T_00662a7e_1bb0_11ec_9e5e_7831c1c13816row3_col23\" class=\"data row3 col23\" >404</td>\n",
       "                        <td id=\"T_00662a7e_1bb0_11ec_9e5e_7831c1c13816row3_col24\" class=\"data row3 col24\" >404</td>\n",
       "                        <td id=\"T_00662a7e_1bb0_11ec_9e5e_7831c1c13816row3_col25\" class=\"data row3 col25\" >404</td>\n",
       "                        <td id=\"T_00662a7e_1bb0_11ec_9e5e_7831c1c13816row3_col26\" class=\"data row3 col26\" >404</td>\n",
       "                        <td id=\"T_00662a7e_1bb0_11ec_9e5e_7831c1c13816row3_col27\" class=\"data row3 col27\" >404</td>\n",
       "                        <td id=\"T_00662a7e_1bb0_11ec_9e5e_7831c1c13816row3_col28\" class=\"data row3 col28\" >404</td>\n",
       "                        <td id=\"T_00662a7e_1bb0_11ec_9e5e_7831c1c13816row3_col29\" class=\"data row3 col29\" >404</td>\n",
       "            </tr>\n",
       "            <tr>\n",
       "                        <th id=\"T_00662a7e_1bb0_11ec_9e5e_7831c1c13816level0_row4\" class=\"row_heading level0 row4\" >AAPL</th>\n",
       "                        <td id=\"T_00662a7e_1bb0_11ec_9e5e_7831c1c13816row4_col0\" class=\"data row4 col0\" >200</td>\n",
       "                        <td id=\"T_00662a7e_1bb0_11ec_9e5e_7831c1c13816row4_col1\" class=\"data row4 col1\" >200</td>\n",
       "                        <td id=\"T_00662a7e_1bb0_11ec_9e5e_7831c1c13816row4_col2\" class=\"data row4 col2\" >200</td>\n",
       "                        <td id=\"T_00662a7e_1bb0_11ec_9e5e_7831c1c13816row4_col3\" class=\"data row4 col3\" >200</td>\n",
       "                        <td id=\"T_00662a7e_1bb0_11ec_9e5e_7831c1c13816row4_col4\" class=\"data row4 col4\" >200</td>\n",
       "                        <td id=\"T_00662a7e_1bb0_11ec_9e5e_7831c1c13816row4_col5\" class=\"data row4 col5\" >200</td>\n",
       "                        <td id=\"T_00662a7e_1bb0_11ec_9e5e_7831c1c13816row4_col6\" class=\"data row4 col6\" >200</td>\n",
       "                        <td id=\"T_00662a7e_1bb0_11ec_9e5e_7831c1c13816row4_col7\" class=\"data row4 col7\" >200</td>\n",
       "                        <td id=\"T_00662a7e_1bb0_11ec_9e5e_7831c1c13816row4_col8\" class=\"data row4 col8\" >200</td>\n",
       "                        <td id=\"T_00662a7e_1bb0_11ec_9e5e_7831c1c13816row4_col9\" class=\"data row4 col9\" >200</td>\n",
       "                        <td id=\"T_00662a7e_1bb0_11ec_9e5e_7831c1c13816row4_col10\" class=\"data row4 col10\" >200</td>\n",
       "                        <td id=\"T_00662a7e_1bb0_11ec_9e5e_7831c1c13816row4_col11\" class=\"data row4 col11\" >200</td>\n",
       "                        <td id=\"T_00662a7e_1bb0_11ec_9e5e_7831c1c13816row4_col12\" class=\"data row4 col12\" >200</td>\n",
       "                        <td id=\"T_00662a7e_1bb0_11ec_9e5e_7831c1c13816row4_col13\" class=\"data row4 col13\" >200</td>\n",
       "                        <td id=\"T_00662a7e_1bb0_11ec_9e5e_7831c1c13816row4_col14\" class=\"data row4 col14\" >200</td>\n",
       "                        <td id=\"T_00662a7e_1bb0_11ec_9e5e_7831c1c13816row4_col15\" class=\"data row4 col15\" >200</td>\n",
       "                        <td id=\"T_00662a7e_1bb0_11ec_9e5e_7831c1c13816row4_col16\" class=\"data row4 col16\" >200</td>\n",
       "                        <td id=\"T_00662a7e_1bb0_11ec_9e5e_7831c1c13816row4_col17\" class=\"data row4 col17\" >200</td>\n",
       "                        <td id=\"T_00662a7e_1bb0_11ec_9e5e_7831c1c13816row4_col18\" class=\"data row4 col18\" >200</td>\n",
       "                        <td id=\"T_00662a7e_1bb0_11ec_9e5e_7831c1c13816row4_col19\" class=\"data row4 col19\" >200</td>\n",
       "                        <td id=\"T_00662a7e_1bb0_11ec_9e5e_7831c1c13816row4_col20\" class=\"data row4 col20\" >200</td>\n",
       "                        <td id=\"T_00662a7e_1bb0_11ec_9e5e_7831c1c13816row4_col21\" class=\"data row4 col21\" >200</td>\n",
       "                        <td id=\"T_00662a7e_1bb0_11ec_9e5e_7831c1c13816row4_col22\" class=\"data row4 col22\" >200</td>\n",
       "                        <td id=\"T_00662a7e_1bb0_11ec_9e5e_7831c1c13816row4_col23\" class=\"data row4 col23\" >200</td>\n",
       "                        <td id=\"T_00662a7e_1bb0_11ec_9e5e_7831c1c13816row4_col24\" class=\"data row4 col24\" >200</td>\n",
       "                        <td id=\"T_00662a7e_1bb0_11ec_9e5e_7831c1c13816row4_col25\" class=\"data row4 col25\" >200</td>\n",
       "                        <td id=\"T_00662a7e_1bb0_11ec_9e5e_7831c1c13816row4_col26\" class=\"data row4 col26\" >200</td>\n",
       "                        <td id=\"T_00662a7e_1bb0_11ec_9e5e_7831c1c13816row4_col27\" class=\"data row4 col27\" >200</td>\n",
       "                        <td id=\"T_00662a7e_1bb0_11ec_9e5e_7831c1c13816row4_col28\" class=\"data row4 col28\" >200</td>\n",
       "                        <td id=\"T_00662a7e_1bb0_11ec_9e5e_7831c1c13816row4_col29\" class=\"data row4 col29\" >200</td>\n",
       "            </tr>\n",
       "            <tr>\n",
       "                        <th id=\"T_00662a7e_1bb0_11ec_9e5e_7831c1c13816level0_row5\" class=\"row_heading level0 row5\" >OGZPY</th>\n",
       "                        <td id=\"T_00662a7e_1bb0_11ec_9e5e_7831c1c13816row5_col0\" class=\"data row5 col0\" >200</td>\n",
       "                        <td id=\"T_00662a7e_1bb0_11ec_9e5e_7831c1c13816row5_col1\" class=\"data row5 col1\" >200</td>\n",
       "                        <td id=\"T_00662a7e_1bb0_11ec_9e5e_7831c1c13816row5_col2\" class=\"data row5 col2\" >200</td>\n",
       "                        <td id=\"T_00662a7e_1bb0_11ec_9e5e_7831c1c13816row5_col3\" class=\"data row5 col3\" >404</td>\n",
       "                        <td id=\"T_00662a7e_1bb0_11ec_9e5e_7831c1c13816row5_col4\" class=\"data row5 col4\" >200</td>\n",
       "                        <td id=\"T_00662a7e_1bb0_11ec_9e5e_7831c1c13816row5_col5\" class=\"data row5 col5\" >200</td>\n",
       "                        <td id=\"T_00662a7e_1bb0_11ec_9e5e_7831c1c13816row5_col6\" class=\"data row5 col6\" >200</td>\n",
       "                        <td id=\"T_00662a7e_1bb0_11ec_9e5e_7831c1c13816row5_col7\" class=\"data row5 col7\" >200</td>\n",
       "                        <td id=\"T_00662a7e_1bb0_11ec_9e5e_7831c1c13816row5_col8\" class=\"data row5 col8\" >200</td>\n",
       "                        <td id=\"T_00662a7e_1bb0_11ec_9e5e_7831c1c13816row5_col9\" class=\"data row5 col9\" >200</td>\n",
       "                        <td id=\"T_00662a7e_1bb0_11ec_9e5e_7831c1c13816row5_col10\" class=\"data row5 col10\" >200</td>\n",
       "                        <td id=\"T_00662a7e_1bb0_11ec_9e5e_7831c1c13816row5_col11\" class=\"data row5 col11\" >200</td>\n",
       "                        <td id=\"T_00662a7e_1bb0_11ec_9e5e_7831c1c13816row5_col12\" class=\"data row5 col12\" >200</td>\n",
       "                        <td id=\"T_00662a7e_1bb0_11ec_9e5e_7831c1c13816row5_col13\" class=\"data row5 col13\" >200</td>\n",
       "                        <td id=\"T_00662a7e_1bb0_11ec_9e5e_7831c1c13816row5_col14\" class=\"data row5 col14\" >404</td>\n",
       "                        <td id=\"T_00662a7e_1bb0_11ec_9e5e_7831c1c13816row5_col15\" class=\"data row5 col15\" >200</td>\n",
       "                        <td id=\"T_00662a7e_1bb0_11ec_9e5e_7831c1c13816row5_col16\" class=\"data row5 col16\" >404</td>\n",
       "                        <td id=\"T_00662a7e_1bb0_11ec_9e5e_7831c1c13816row5_col17\" class=\"data row5 col17\" >200</td>\n",
       "                        <td id=\"T_00662a7e_1bb0_11ec_9e5e_7831c1c13816row5_col18\" class=\"data row5 col18\" >200</td>\n",
       "                        <td id=\"T_00662a7e_1bb0_11ec_9e5e_7831c1c13816row5_col19\" class=\"data row5 col19\" >200</td>\n",
       "                        <td id=\"T_00662a7e_1bb0_11ec_9e5e_7831c1c13816row5_col20\" class=\"data row5 col20\" >200</td>\n",
       "                        <td id=\"T_00662a7e_1bb0_11ec_9e5e_7831c1c13816row5_col21\" class=\"data row5 col21\" >404</td>\n",
       "                        <td id=\"T_00662a7e_1bb0_11ec_9e5e_7831c1c13816row5_col22\" class=\"data row5 col22\" >200</td>\n",
       "                        <td id=\"T_00662a7e_1bb0_11ec_9e5e_7831c1c13816row5_col23\" class=\"data row5 col23\" >200</td>\n",
       "                        <td id=\"T_00662a7e_1bb0_11ec_9e5e_7831c1c13816row5_col24\" class=\"data row5 col24\" >200</td>\n",
       "                        <td id=\"T_00662a7e_1bb0_11ec_9e5e_7831c1c13816row5_col25\" class=\"data row5 col25\" >200</td>\n",
       "                        <td id=\"T_00662a7e_1bb0_11ec_9e5e_7831c1c13816row5_col26\" class=\"data row5 col26\" >200</td>\n",
       "                        <td id=\"T_00662a7e_1bb0_11ec_9e5e_7831c1c13816row5_col27\" class=\"data row5 col27\" >200</td>\n",
       "                        <td id=\"T_00662a7e_1bb0_11ec_9e5e_7831c1c13816row5_col28\" class=\"data row5 col28\" >200</td>\n",
       "                        <td id=\"T_00662a7e_1bb0_11ec_9e5e_7831c1c13816row5_col29\" class=\"data row5 col29\" >200</td>\n",
       "            </tr>\n",
       "    </tbody></table>"
      ],
      "text/plain": [
       "<pandas.io.formats.style.Styler at 0x136d5dda0>"
      ]
     },
     "execution_count": 163,
     "metadata": {},
     "output_type": "execute_result"
    }
   ],
   "source": [
    "status_codes_df = tickers_df.apply((lambda x: [r.status_code for r in x]))\n",
    "status_codes_df.style.applymap(lambda x: 'color: green' if x == 200 else 'color: red')"
   ]
  },
  {
   "cell_type": "markdown",
   "metadata": {},
   "source": [
    "# Explore Apple data"
   ]
  },
  {
   "cell_type": "code",
   "execution_count": 168,
   "metadata": {},
   "outputs": [
    {
     "data": {
      "text/plain": [
       "assetProfile      <Response [200]>\n",
       "summaryProfile    <Response [200]>\n",
       "summaryDetail     <Response [200]>\n",
       "esgScores         <Response [200]>\n",
       "price             <Response [200]>\n",
       "Name: AAPL, dtype: object"
      ]
     },
     "execution_count": 168,
     "metadata": {},
     "output_type": "execute_result"
    }
   ],
   "source": [
    "apple_df = tickers_df.loc['AAPL']\n",
    "apple_df.head()"
   ]
  },
  {
   "cell_type": "code",
   "execution_count": 171,
   "metadata": {},
   "outputs": [],
   "source": [
    "aapl_assetProfile = apple_df['assetProfile'].json()"
   ]
  },
  {
   "cell_type": "code",
   "execution_count": 172,
   "metadata": {
    "scrolled": true
   },
   "outputs": [
    {
     "data": {
      "text/plain": [
       "{'quoteSummary': {'result': [{'assetProfile': {'address1': 'One Apple Park Way',\n",
       "     'city': 'Cupertino',\n",
       "     'state': 'CA',\n",
       "     'zip': '95014',\n",
       "     'country': 'United States',\n",
       "     'phone': '408-996-1010',\n",
       "     'website': 'http://www.apple.com',\n",
       "     'industry': 'Consumer Electronics',\n",
       "     'sector': 'Technology',\n",
       "     'longBusinessSummary': 'Apple Inc. designs, manufactures, and markets smartphones, personal computers, tablets, wearables, and accessories worldwide. It also sells various related services. The company offers iPhone, a line of smartphones; Mac, a line of personal computers; iPad, a line of multi-purpose tablets; and wearables, home, and accessories comprising AirPods, Apple TV, Apple Watch, Beats products, HomePod, iPod touch, and other Apple-branded and third-party accessories. It also provides AppleCare support services; cloud services store services; and operates various platforms, including the App Store, that allow customers to discover and download applications and digital content, such as books, music, video, games, and podcasts. In addition, the company offers various services, such as Apple Arcade, a game subscription service; Apple Music, which offers users a curated listening experience with on-demand radio stations; Apple News+, a subscription news and magazine service; Apple TV+, which offers exclusive original content; Apple Card, a co-branded credit card; and Apple Pay, a cashless payment service, as well as licenses its intellectual property. The company serves consumers, and small and mid-sized businesses; and the education, enterprise, and government markets. It sells and delivers third-party applications for its products through the App Store. The company also sells its products through its retail and online stores, and direct sales force; and third-party cellular network carriers, wholesalers, retailers, and resellers. Apple Inc. was founded in 1977 and is headquartered in Cupertino, California.',\n",
       "     'fullTimeEmployees': 147000,\n",
       "     'companyOfficers': [{'maxAge': 1,\n",
       "       'name': 'Mr. Timothy D. Cook',\n",
       "       'age': 59,\n",
       "       'title': 'CEO & Director',\n",
       "       'yearBorn': 1961,\n",
       "       'fiscalYear': 2020,\n",
       "       'totalPay': {'raw': 14769259, 'fmt': '14.77M', 'longFmt': '14,769,259'},\n",
       "       'exercisedValue': {'raw': 0, 'fmt': None, 'longFmt': '0'},\n",
       "       'unexercisedValue': {'raw': 0, 'fmt': None, 'longFmt': '0'}},\n",
       "      {'maxAge': 1,\n",
       "       'name': 'Mr. Luca  Maestri',\n",
       "       'age': 56,\n",
       "       'title': 'CFO & Sr. VP',\n",
       "       'yearBorn': 1964,\n",
       "       'fiscalYear': 2020,\n",
       "       'totalPay': {'raw': 4595583, 'fmt': '4.6M', 'longFmt': '4,595,583'},\n",
       "       'exercisedValue': {'raw': 0, 'fmt': None, 'longFmt': '0'},\n",
       "       'unexercisedValue': {'raw': 0, 'fmt': None, 'longFmt': '0'}},\n",
       "      {'maxAge': 1,\n",
       "       'name': 'Mr. Jeffrey E. Williams',\n",
       "       'age': 56,\n",
       "       'title': 'Chief Operating Officer',\n",
       "       'yearBorn': 1964,\n",
       "       'fiscalYear': 2020,\n",
       "       'totalPay': {'raw': 4594137, 'fmt': '4.59M', 'longFmt': '4,594,137'},\n",
       "       'exercisedValue': {'raw': 0, 'fmt': None, 'longFmt': '0'},\n",
       "       'unexercisedValue': {'raw': 0, 'fmt': None, 'longFmt': '0'}},\n",
       "      {'maxAge': 1,\n",
       "       'name': 'Ms. Katherine L. Adams',\n",
       "       'age': 56,\n",
       "       'title': 'Sr. VP, Gen. Counsel & Sec.',\n",
       "       'yearBorn': 1964,\n",
       "       'fiscalYear': 2020,\n",
       "       'totalPay': {'raw': 4591310, 'fmt': '4.59M', 'longFmt': '4,591,310'},\n",
       "       'exercisedValue': {'raw': 0, 'fmt': None, 'longFmt': '0'},\n",
       "       'unexercisedValue': {'raw': 0, 'fmt': None, 'longFmt': '0'}},\n",
       "      {'maxAge': 1,\n",
       "       'name': \"Ms. Deirdre  O'Brien\",\n",
       "       'age': 53,\n",
       "       'title': 'Sr. VP of People & Retail',\n",
       "       'yearBorn': 1967,\n",
       "       'fiscalYear': 2020,\n",
       "       'totalPay': {'raw': 4614684, 'fmt': '4.61M', 'longFmt': '4,614,684'},\n",
       "       'exercisedValue': {'raw': 0, 'fmt': None, 'longFmt': '0'},\n",
       "       'unexercisedValue': {'raw': 0, 'fmt': None, 'longFmt': '0'}},\n",
       "      {'maxAge': 1,\n",
       "       'name': 'Mr. Chris  Kondo',\n",
       "       'title': 'Sr. Director of Corp. Accounting',\n",
       "       'exercisedValue': {'raw': 0, 'fmt': None, 'longFmt': '0'},\n",
       "       'unexercisedValue': {'raw': 0, 'fmt': None, 'longFmt': '0'}},\n",
       "      {'maxAge': 1,\n",
       "       'name': 'Mr. James  Wilson',\n",
       "       'title': 'Chief Technology Officer',\n",
       "       'exercisedValue': {'raw': 0, 'fmt': None, 'longFmt': '0'},\n",
       "       'unexercisedValue': {'raw': 0, 'fmt': None, 'longFmt': '0'}},\n",
       "      {'maxAge': 1,\n",
       "       'name': 'Ms. Mary  Demby',\n",
       "       'title': 'Chief Information Officer',\n",
       "       'exercisedValue': {'raw': 0, 'fmt': None, 'longFmt': '0'},\n",
       "       'unexercisedValue': {'raw': 0, 'fmt': None, 'longFmt': '0'}},\n",
       "      {'maxAge': 1,\n",
       "       'name': 'Ms. Nancy  Paxton',\n",
       "       'title': 'Sr. Director of Investor Relations & Treasury',\n",
       "       'exercisedValue': {'raw': 0, 'fmt': None, 'longFmt': '0'},\n",
       "       'unexercisedValue': {'raw': 0, 'fmt': None, 'longFmt': '0'}},\n",
       "      {'maxAge': 1,\n",
       "       'name': 'Mr. Greg  Joswiak',\n",
       "       'title': 'Sr. VP of Worldwide Marketing',\n",
       "       'exercisedValue': {'raw': 0, 'fmt': None, 'longFmt': '0'},\n",
       "       'unexercisedValue': {'raw': 0, 'fmt': None, 'longFmt': '0'}}],\n",
       "     'auditRisk': 3,\n",
       "     'boardRisk': 1,\n",
       "     'compensationRisk': 2,\n",
       "     'shareHolderRightsRisk': 1,\n",
       "     'overallRisk': 1,\n",
       "     'governanceEpochDate': 1625097600,\n",
       "     'compensationAsOfEpochDate': 1609372800,\n",
       "     'maxAge': 86400}}],\n",
       "  'error': None}}"
      ]
     },
     "execution_count": 172,
     "metadata": {},
     "output_type": "execute_result"
    }
   ],
   "source": [
    "aapl_assetProfile"
   ]
  },
  {
   "cell_type": "markdown",
   "metadata": {},
   "source": [
    "### Each module"
   ]
  },
  {
   "cell_type": "code",
   "execution_count": 190,
   "metadata": {},
   "outputs": [
    {
     "name": "stdout",
     "output_type": "stream",
     "text": [
      "price\n"
     ]
    },
    {
     "data": {
      "text/plain": [
       "{'quoteSummary': {'result': [{'price': {'maxAge': 1,\n",
       "     'preMarketChangePercent': {'raw': 0.00676289, 'fmt': '0.68%'},\n",
       "     'preMarketChange': {'raw': 0.970001, 'fmt': '0.97'},\n",
       "     'preMarketTime': 1632317399,\n",
       "     'preMarketPrice': {'raw': 144.4, 'fmt': '144.40'},\n",
       "     'preMarketSource': 'FREE_REALTIME',\n",
       "     'postMarketChange': {},\n",
       "     'postMarketPrice': {},\n",
       "     'regularMarketChangePercent': {'raw': 0.0122010745, 'fmt': '1.22%'},\n",
       "     'regularMarketChange': {'raw': 1.75, 'fmt': '1.75'},\n",
       "     'regularMarketTime': 1632319672,\n",
       "     'priceHint': {'raw': 2, 'fmt': '2', 'longFmt': '2'},\n",
       "     'regularMarketPrice': {'raw': 145.18, 'fmt': '145.18'},\n",
       "     'regularMarketDayHigh': {'raw': 145.2, 'fmt': '145.20'},\n",
       "     'regularMarketDayLow': {'raw': 143.7001, 'fmt': '143.70'},\n",
       "     'regularMarketVolume': {'raw': 11975706,\n",
       "      'fmt': '11.98M',\n",
       "      'longFmt': '11,975,706.00'},\n",
       "     'averageDailyVolume10Day': {},\n",
       "     'averageDailyVolume3Month': {},\n",
       "     'regularMarketPreviousClose': {'raw': 143.43, 'fmt': '143.43'},\n",
       "     'regularMarketSource': 'FREE_REALTIME',\n",
       "     'regularMarketOpen': {'raw': 144.45, 'fmt': '144.45'},\n",
       "     'strikePrice': {},\n",
       "     'openInterest': {},\n",
       "     'exchange': 'NMS',\n",
       "     'exchangeName': 'NasdaqGS',\n",
       "     'exchangeDataDelayedBy': 0,\n",
       "     'marketState': 'REGULAR',\n",
       "     'quoteType': 'EQUITY',\n",
       "     'symbol': 'AAPL',\n",
       "     'underlyingSymbol': None,\n",
       "     'shortName': 'Apple Inc.',\n",
       "     'longName': 'Apple Inc.',\n",
       "     'currency': 'USD',\n",
       "     'quoteSourceName': 'Nasdaq Real Time Price',\n",
       "     'currencySymbol': '$',\n",
       "     'fromCurrency': None,\n",
       "     'toCurrency': None,\n",
       "     'lastMarket': None,\n",
       "     'volume24Hr': {},\n",
       "     'volumeAllCurrencies': {},\n",
       "     'circulatingSupply': {},\n",
       "     'marketCap': {'raw': 2399854133248,\n",
       "      'fmt': '2.40T',\n",
       "      'longFmt': '2,399,854,133,248.00'}}}],\n",
       "  'error': None}}"
      ]
     },
     "execution_count": 190,
     "metadata": {},
     "output_type": "execute_result"
    }
   ],
   "source": [
    "# i=4\n",
    "# module = all_modules[i:i+1][0]\n",
    "module = 'price'\n",
    "print(module)\n",
    "apple_df[module].json()"
   ]
  },
  {
   "cell_type": "code",
   "execution_count": null,
   "metadata": {},
   "outputs": [],
   "source": []
  },
  {
   "cell_type": "code",
   "execution_count": null,
   "metadata": {},
   "outputs": [],
   "source": []
  }
 ],
 "metadata": {
  "kernelspec": {
   "display_name": ".venv",
   "language": "python",
   "name": ".venv"
  },
  "language_info": {
   "codemirror_mode": {
    "name": "ipython",
    "version": 3
   },
   "file_extension": ".py",
   "mimetype": "text/x-python",
   "name": "python",
   "nbconvert_exporter": "python",
   "pygments_lexer": "ipython3",
   "version": "3.6.4"
  }
 },
 "nbformat": 4,
 "nbformat_minor": 4
}
